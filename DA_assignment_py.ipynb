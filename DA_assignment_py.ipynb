{
  "nbformat": 4,
  "nbformat_minor": 0,
  "metadata": {
    "colab": {
      "provenance": [],
      "authorship_tag": "ABX9TyNCfvPzNcrCnmw8aRAkWsJ3",
      "include_colab_link": true
    },
    "kernelspec": {
      "name": "python3",
      "display_name": "Python 3"
    },
    "language_info": {
      "name": "python"
    }
  },
  "cells": [
    {
      "cell_type": "markdown",
      "metadata": {
        "id": "view-in-github",
        "colab_type": "text"
      },
      "source": [
        "<a href=\"https://colab.research.google.com/github/Ishatapader/Numpy/blob/main/DA_assignment_py.ipynb\" target=\"_parent\"><img src=\"https://colab.research.google.com/assets/colab-badge.svg\" alt=\"Open In Colab\"/></a>"
      ]
    },
    {
      "cell_type": "code",
      "execution_count": 1,
      "metadata": {
        "colab": {
          "base_uri": "https://localhost:8080/"
        },
        "id": "0ELg_K2CWnu5",
        "outputId": "ffa46c10-e037-4b8f-e293-cc7001333488"
      },
      "outputs": [
        {
          "output_type": "stream",
          "name": "stdout",
          "text": [
            "[0, -1, 2, -1, 4, -1, 6, -1, 8, -1]\n"
          ]
        }
      ],
      "source": [
        "arr = [0, 1, 2, 3, 4, 5, 6, 7, 8, 9]\n",
        "result = [x if x % 2 == 0 else -1 for x in arr]\n",
        "print(result)"
      ]
    },
    {
      "cell_type": "code",
      "source": [
        "import numpy as np"
      ],
      "metadata": {
        "id": "1cnpQlkVXp1a"
      },
      "execution_count": 2,
      "outputs": []
    },
    {
      "cell_type": "code",
      "source": [
        "a = np.array([1,2,3,2,3,4,3,4,5,6])\n",
        "b = np.array([7,2,10,2,7,4,9,4,9,8])\n",
        "c = np.intersect1d(a, b)\n",
        "print(c)\n"
      ],
      "metadata": {
        "colab": {
          "base_uri": "https://localhost:8080/"
        },
        "id": "x3hwJ72_XdT2",
        "outputId": "39c94d67-e413-4953-ccd5-cd2a9396d37c"
      },
      "execution_count": 4,
      "outputs": [
        {
          "output_type": "stream",
          "name": "stdout",
          "text": [
            "[2 4]\n"
          ]
        }
      ]
    },
    {
      "cell_type": "code",
      "source": [
        "a = np.array([1, 2, 3, 4, 5])\n",
        "b = np.array([5, 6, 7, 8, 9])\n",
        "c = np.setdiff1d(a, b)\n",
        "print(c)"
      ],
      "metadata": {
        "colab": {
          "base_uri": "https://localhost:8080/"
        },
        "id": "JiO8V-asXl6L",
        "outputId": "da002cec-e715-4737-bd72-2a5410e30aeb"
      },
      "execution_count": 5,
      "outputs": [
        {
          "output_type": "stream",
          "name": "stdout",
          "text": [
            "[1 2 3 4]\n"
          ]
        }
      ]
    },
    {
      "cell_type": "code",
      "source": [
        "a = np.array([1, 2, 3, 2, 3, 4, 3, 4, 5, 6])\n",
        "b = np.array([7, 2, 10, 2, 7, 4, 9, 4, 9, 8])\n",
        "c = np.where(a == b)\n",
        "print(c)"
      ],
      "metadata": {
        "colab": {
          "base_uri": "https://localhost:8080/"
        },
        "id": "hxGC5o4pYt3b",
        "outputId": "9639ab29-e387-4ed6-e345-5c41ffd5cc94"
      },
      "execution_count": 6,
      "outputs": [
        {
          "output_type": "stream",
          "name": "stdout",
          "text": [
            "(array([1, 3, 5, 7]),)\n"
          ]
        }
      ]
    },
    {
      "cell_type": "code",
      "source": [
        "a = np.array([2, 6, 1, 9, 10, 3, 27])\n",
        "b = a[(a >= 5) & (a <= 10)]\n",
        "print(b)"
      ],
      "metadata": {
        "colab": {
          "base_uri": "https://localhost:8080/"
        },
        "id": "areypEgIZHrR",
        "outputId": "97b5f7d4-afc9-44ed-c61b-ffdb4381ac1b"
      },
      "execution_count": 8,
      "outputs": [
        {
          "output_type": "stream",
          "name": "stdout",
          "text": [
            "[ 6  9 10]\n"
          ]
        }
      ]
    },
    {
      "cell_type": "code",
      "source": [
        "a = np.array([[0, 1, 2],\n",
        "                 [3, 4, 5],\n",
        "                 [6, 7, 8]])\n",
        "b = a[::-1]\n",
        "print(b)"
      ],
      "metadata": {
        "colab": {
          "base_uri": "https://localhost:8080/"
        },
        "id": "kf6bZOcCZofX",
        "outputId": "665078c0-a02d-448f-bd4b-8e89e8408e37"
      },
      "execution_count": 9,
      "outputs": [
        {
          "output_type": "stream",
          "name": "stdout",
          "text": [
            "[[6 7 8]\n",
            " [3 4 5]\n",
            " [0 1 2]]\n"
          ]
        }
      ]
    },
    {
      "cell_type": "code",
      "source": [
        "import pandas as pd\n",
        "import numpy as np"
      ],
      "metadata": {
        "id": "C4xDK73fZ4uc"
      },
      "execution_count": 11,
      "outputs": []
    },
    {
      "cell_type": "code",
      "source": [
        "# Import the iris dataset\n",
        "df=pd.read_csv('IRIS.csv')"
      ],
      "metadata": {
        "id": "NBXmZszubHhe"
      },
      "execution_count": 12,
      "outputs": []
    },
    {
      "cell_type": "code",
      "source": [
        "print(df.head())"
      ],
      "metadata": {
        "colab": {
          "base_uri": "https://localhost:8080/"
        },
        "id": "PdYyq9tpbSB3",
        "outputId": "168cb19a-c8ce-46df-92a7-5b86ff4bdf08"
      },
      "execution_count": 13,
      "outputs": [
        {
          "output_type": "stream",
          "name": "stdout",
          "text": [
            "   sepal_length  sepal_width  petal_length  petal_width      species\n",
            "0           5.1          3.5           1.4          0.2  Iris-setosa\n",
            "1           4.9          3.0           1.4          0.2  Iris-setosa\n",
            "2           4.7          3.2           1.3          0.2  Iris-setosa\n",
            "3           4.6          3.1           1.5          0.2  Iris-setosa\n",
            "4           5.0          3.6           1.4          0.2  Iris-setosa\n"
          ]
        }
      ]
    },
    {
      "cell_type": "code",
      "source": [
        "sepal_length = df['sepal_length']\n",
        "\n",
        "mean = np.mean(sepal_length)\n",
        "median = np.median(sepal_length)\n",
        "std = np.std(sepal_length)\n",
        "\n",
        "print(\"Mean Sepal Length:\", mean)\n",
        "print(\"Median Sepal Length:\", median)\n",
        "print(\"Standard Deviation of Sepal Length:\", std)"
      ],
      "metadata": {
        "colab": {
          "base_uri": "https://localhost:8080/"
        },
        "id": "T0olCJbMbYeN",
        "outputId": "0e0c8dde-5ab8-4a64-89ce-8c1ce3e24eef"
      },
      "execution_count": 15,
      "outputs": [
        {
          "output_type": "stream",
          "name": "stdout",
          "text": [
            "Mean Sepal Length: 5.843333333333334\n",
            "Median Sepal Length: 5.8\n",
            "Standard Deviation of Sepal Length: 0.8253012917851409\n"
          ]
        }
      ]
    },
    {
      "cell_type": "code",
      "source": [
        "min = np.min(sepal_length)\n",
        "max = np.max(sepal_length)\n",
        "normalized = (sepal_length - min) / (max - min)\n",
        "print(normalized)"
      ],
      "metadata": {
        "colab": {
          "base_uri": "https://localhost:8080/"
        },
        "id": "1zxPePeqcwns",
        "outputId": "d7513707-992a-48b1-a253-a9f5459af736"
      },
      "execution_count": 16,
      "outputs": [
        {
          "output_type": "stream",
          "name": "stdout",
          "text": [
            "0      0.222222\n",
            "1      0.166667\n",
            "2      0.111111\n",
            "3      0.083333\n",
            "4      0.194444\n",
            "         ...   \n",
            "145    0.666667\n",
            "146    0.555556\n",
            "147    0.611111\n",
            "148    0.527778\n",
            "149    0.444444\n",
            "Name: sepal_length, Length: 150, dtype: float64\n"
          ]
        }
      ]
    },
    {
      "cell_type": "code",
      "source": [
        "print(\"\\nMissing values of sepal_length:\\n\", df['sepal_length'].isnull().sum())\n"
      ],
      "metadata": {
        "colab": {
          "base_uri": "https://localhost:8080/"
        },
        "id": "yfA74uaMd8Vj",
        "outputId": "7ae897c8-29b8-4a9f-8ec8-6539a30ed20d"
      },
      "execution_count": 24,
      "outputs": [
        {
          "output_type": "stream",
          "name": "stdout",
          "text": [
            "\n",
            "Missing values of sepal_length:\n",
            " 0\n"
          ]
        }
      ]
    }
  ]
}